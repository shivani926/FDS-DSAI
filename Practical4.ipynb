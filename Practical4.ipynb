{
 "cells": [
  {
   "cell_type": "markdown",
   "id": "af9c8ba4",
   "metadata": {},
   "source": [
    "# calculate P(A/B) given P(A) given P(A)=0.02%, P(B/A)=0.85, P(B/not A) = "
   ]
  },
  {
   "cell_type": "code",
   "execution_count": 3,
   "id": "49093c93",
   "metadata": {},
   "outputs": [
    {
     "name": "stdout",
     "output_type": "stream",
     "text": [
      "P(A/B) = 0.339%\n"
     ]
    }
   ],
   "source": [
    "def bayes_law(p_a, p_b_given_a, p_b_given_not_a):\n",
    "    #calculate p(not A)\n",
    "    not_a = 1- p_a\n",
    "    \n",
    "    #calculate P(B)\n",
    "    p_b = p_b_given_a * p_a + p_b_given_not_a * not_a\n",
    "    \n",
    "    #calculate P(A/B)\n",
    "    p_a_given_b = (p_b_given_a * p_a) / p_b\n",
    "    \n",
    "    return p_a_given_b\n",
    "\n",
    "p_a = 0.0002\n",
    "p_b_given_a = 0.85\n",
    "p_b_given_not_a = 0.05\n",
    "\n",
    "result = bayes_law(p_a, p_b_given_a, p_b_given_not_a)\n",
    "print('P(A/B) = %.3f%%'% (result*100))\n"
   ]
  },
  {
   "cell_type": "markdown",
   "id": "f2dfca32",
   "metadata": {},
   "source": [
    "# Calculating P(A/B) given P(A) = 30% , P(not A) = 70% , P(B/A) = 75% , P(congratulation/not spam) = 35%"
   ]
  },
  {
   "cell_type": "code",
   "execution_count": 2,
   "id": "f2cba42c",
   "metadata": {},
   "outputs": [
    {
     "name": "stdout",
     "output_type": "stream",
     "text": [
      "P(A/B) = 47.872%\n"
     ]
    }
   ],
   "source": [
    "def bayes_laaw(p_a, p_b_given_a, p_b_given_not_a ):\n",
    "    # calculating P(B)\n",
    "    p_b = p_b_given_a * p_a + p_b_given_not_a * not_a\n",
    "    \n",
    "    # calculating P(A/B)\n",
    "    p_a_given_b = (p_b_given_a * p_a) / p_b\n",
    "    \n",
    "    return p_a_given_b\n",
    "\n",
    "p_a = 0.3\n",
    "p_b_given_a = 0.75\n",
    "p_b_given_not_a = 0.35\n",
    "p_not_a = 0.7\n",
    "\n",
    "result = bayes_law(p_a, p_b_given_a, p_b_given_not_a)\n",
    "print('P(A/B) = %.3f%%' % (result*100))"
   ]
  },
  {
   "cell_type": "code",
   "execution_count": null,
   "id": "75c51172",
   "metadata": {},
   "outputs": [],
   "source": []
  }
 ],
 "metadata": {
  "kernelspec": {
   "display_name": "Python 3",
   "language": "python",
   "name": "python3"
  },
  "language_info": {
   "codemirror_mode": {
    "name": "ipython",
    "version": 3
   },
   "file_extension": ".py",
   "mimetype": "text/x-python",
   "name": "python",
   "nbconvert_exporter": "python",
   "pygments_lexer": "ipython3",
   "version": "3.8.8"
  }
 },
 "nbformat": 4,
 "nbformat_minor": 5
}
