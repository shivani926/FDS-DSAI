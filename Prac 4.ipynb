{
 "cells": [
  {
   "cell_type": "code",
   "execution_count": 1,
   "metadata": {},
   "outputs": [
    {
     "name": "stdout",
     "output_type": "stream",
     "text": [
      "P(A/B)=0.339%\n"
     ]
    }
   ],
   "source": [
    "def bayes_law(p_a,p_b_given_a,p_b_given_not_a):\n",
    "    not_a=1-p_a\n",
    "    p_b=p_b_given_a*p_a+p_b_given_not_a*not_a\n",
    "    p_a_given_b=(p_b_given_a*p_a)/p_b\n",
    "    return p_a_given_b\n",
    "p_a=0.0002\n",
    "p_b_given_a=0.85\n",
    "p_b_given_not_a=0.05\n",
    "result=bayes_law(p_a,p_b_given_a,p_b_given_not_a)\n",
    "print(\"P(A/B)=%.3f%%\"%(result*100))"
   ]
  },
  {
   "cell_type": "code",
   "execution_count": 4,
   "metadata": {},
   "outputs": [
    {
     "name": "stdout",
     "output_type": "stream",
     "text": [
      "P(A/B) = 47.872%\n"
     ]
    }
   ],
   "source": [
    "# Calculating P(A/B) given P(A) = 30% , P(not A) = 70% , P(B/A) = 75% , P(congratulation/not spam) = 35%\n",
    "\n",
    "def bayes_law(p_a, p_b_given_a, p_b_given_not_a ):\n",
    "    not_a=1-p_a\n",
    "    p_b = p_b_given_a * p_a + p_b_given_not_a * not_a\n",
    "    \n",
    "   \n",
    "    p_a_given_b = (p_b_given_a * p_a) / p_b\n",
    "    \n",
    "    return p_a_given_b\n",
    "\n",
    "p_a = 0.3\n",
    "p_b_given_a = 0.75\n",
    "p_b_given_not_a = 0.35\n",
    "p_not_a = 0.7\n",
    "\n",
    "result = bayes_law(p_a, p_b_given_a, p_b_given_not_a)\n",
    "print('P(A/B) = %.3f%%' % (result*100))"
   ]
  },
  {
   "cell_type": "code",
   "execution_count": null,
   "metadata": {},
   "outputs": [],
   "source": []
  }
 ],
 "metadata": {
  "kernelspec": {
   "display_name": "Python 3",
   "language": "python",
   "name": "python3"
  },
  "language_info": {
   "codemirror_mode": {
    "name": "ipython",
    "version": 3
   },
   "file_extension": ".py",
   "mimetype": "text/x-python",
   "name": "python",
   "nbconvert_exporter": "python",
   "pygments_lexer": "ipython3",
   "version": "3.8.2"
  }
 },
 "nbformat": 4,
 "nbformat_minor": 4
}
