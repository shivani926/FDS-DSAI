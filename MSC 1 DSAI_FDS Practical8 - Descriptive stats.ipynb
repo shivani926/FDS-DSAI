{
 "cells": [
  {
   "cell_type": "code",
   "execution_count": 1,
   "id": "d41d9f0b",
   "metadata": {},
   "outputs": [],
   "source": [
    "import pandas as pd"
   ]
  },
  {
   "cell_type": "code",
   "execution_count": 2,
   "id": "38cbb6cb",
   "metadata": {},
   "outputs": [
    {
     "data": {
      "text/html": [
       "<div>\n",
       "<style scoped>\n",
       "    .dataframe tbody tr th:only-of-type {\n",
       "        vertical-align: middle;\n",
       "    }\n",
       "\n",
       "    .dataframe tbody tr th {\n",
       "        vertical-align: top;\n",
       "    }\n",
       "\n",
       "    .dataframe thead th {\n",
       "        text-align: right;\n",
       "    }\n",
       "</style>\n",
       "<table border=\"1\" class=\"dataframe\">\n",
       "  <thead>\n",
       "    <tr style=\"text-align: right;\">\n",
       "      <th></th>\n",
       "      <th>Name</th>\n",
       "      <th>Salary</th>\n",
       "      <th>Country</th>\n",
       "    </tr>\n",
       "  </thead>\n",
       "  <tbody>\n",
       "    <tr>\n",
       "      <th>0</th>\n",
       "      <td>Dan</td>\n",
       "      <td>40000</td>\n",
       "      <td>USA</td>\n",
       "    </tr>\n",
       "    <tr>\n",
       "      <th>1</th>\n",
       "      <td>Elizabeth</td>\n",
       "      <td>32000</td>\n",
       "      <td>Brazil</td>\n",
       "    </tr>\n",
       "    <tr>\n",
       "      <th>2</th>\n",
       "      <td>Jon</td>\n",
       "      <td>45000</td>\n",
       "      <td>Italy</td>\n",
       "    </tr>\n",
       "    <tr>\n",
       "      <th>3</th>\n",
       "      <td>Maria</td>\n",
       "      <td>54000</td>\n",
       "      <td>USA</td>\n",
       "    </tr>\n",
       "    <tr>\n",
       "      <th>4</th>\n",
       "      <td>Mark</td>\n",
       "      <td>72000</td>\n",
       "      <td>USA</td>\n",
       "    </tr>\n",
       "    <tr>\n",
       "      <th>5</th>\n",
       "      <td>Bill</td>\n",
       "      <td>62000</td>\n",
       "      <td>Brazil</td>\n",
       "    </tr>\n",
       "    <tr>\n",
       "      <th>6</th>\n",
       "      <td>Jess</td>\n",
       "      <td>92000</td>\n",
       "      <td>Italy</td>\n",
       "    </tr>\n",
       "    <tr>\n",
       "      <th>7</th>\n",
       "      <td>Julia</td>\n",
       "      <td>55000</td>\n",
       "      <td>USA</td>\n",
       "    </tr>\n",
       "    <tr>\n",
       "      <th>8</th>\n",
       "      <td>Jeff</td>\n",
       "      <td>35000</td>\n",
       "      <td>Italy</td>\n",
       "    </tr>\n",
       "    <tr>\n",
       "      <th>9</th>\n",
       "      <td>Ben</td>\n",
       "      <td>48000</td>\n",
       "      <td>Brazil</td>\n",
       "    </tr>\n",
       "  </tbody>\n",
       "</table>\n",
       "</div>"
      ],
      "text/plain": [
       "        Name  Salary Country\n",
       "0        Dan   40000     USA\n",
       "1  Elizabeth   32000  Brazil\n",
       "2        Jon   45000   Italy\n",
       "3      Maria   54000     USA\n",
       "4       Mark   72000     USA\n",
       "5       Bill   62000  Brazil\n",
       "6       Jess   92000   Italy\n",
       "7      Julia   55000     USA\n",
       "8       Jeff   35000   Italy\n",
       "9        Ben   48000  Brazil"
      ]
     },
     "execution_count": 2,
     "metadata": {},
     "output_type": "execute_result"
    }
   ],
   "source": [
    "df=pd.read_csv('D:/anita madam rj/New folder/data/stats.csv')\n",
    "df"
   ]
  },
  {
   "cell_type": "code",
   "execution_count": 3,
   "id": "3f26c853",
   "metadata": {},
   "outputs": [
    {
     "data": {
      "text/plain": [
       "53500.0"
      ]
     },
     "execution_count": 3,
     "metadata": {},
     "output_type": "execute_result"
    }
   ],
   "source": [
    "#mean salary\n",
    "mean1=df['Salary'].mean()\n",
    "mean1"
   ]
  },
  {
   "cell_type": "code",
   "execution_count": 4,
   "id": "eab96353",
   "metadata": {},
   "outputs": [
    {
     "data": {
      "text/plain": [
       "535000"
      ]
     },
     "execution_count": 4,
     "metadata": {},
     "output_type": "execute_result"
    }
   ],
   "source": [
    "#sum of Salaries\n",
    "sum1=df['Salary'].sum()\n",
    "sum1"
   ]
  },
  {
   "cell_type": "code",
   "execution_count": 5,
   "id": "4f2d1ed2",
   "metadata": {},
   "outputs": [
    {
     "data": {
      "text/plain": [
       "92000"
      ]
     },
     "execution_count": 5,
     "metadata": {},
     "output_type": "execute_result"
    }
   ],
   "source": [
    "#Maximun Salary\n",
    "max1=df['Salary'].max()\n",
    "max1"
   ]
  },
  {
   "cell_type": "code",
   "execution_count": 6,
   "id": "7be25799",
   "metadata": {},
   "outputs": [
    {
     "data": {
      "text/plain": [
       "32000"
      ]
     },
     "execution_count": 6,
     "metadata": {},
     "output_type": "execute_result"
    }
   ],
   "source": [
    "#Minimun Salary\n",
    "min1=df['Salary'].min()\n",
    "min1"
   ]
  },
  {
   "cell_type": "code",
   "execution_count": 7,
   "id": "0b8b16a5",
   "metadata": {},
   "outputs": [
    {
     "data": {
      "text/plain": [
       "10"
      ]
     },
     "execution_count": 7,
     "metadata": {},
     "output_type": "execute_result"
    }
   ],
   "source": [
    "#Total count\n",
    "count1=df['Salary'].count()\n",
    "count1"
   ]
  },
  {
   "cell_type": "code",
   "execution_count": 8,
   "id": "32a740f5",
   "metadata": {},
   "outputs": [
    {
     "data": {
      "text/plain": [
       "51000.0"
      ]
     },
     "execution_count": 8,
     "metadata": {},
     "output_type": "execute_result"
    }
   ],
   "source": [
    "#Median \n",
    "median=df['Salary'].median()\n",
    "median"
   ]
  },
  {
   "cell_type": "code",
   "execution_count": 10,
   "id": "dd99c5ef",
   "metadata": {},
   "outputs": [
    {
     "data": {
      "text/plain": [
       "0    32000\n",
       "1    35000\n",
       "2    40000\n",
       "3    45000\n",
       "4    48000\n",
       "5    54000\n",
       "6    55000\n",
       "7    62000\n",
       "8    72000\n",
       "9    92000\n",
       "dtype: int64"
      ]
     },
     "execution_count": 10,
     "metadata": {},
     "output_type": "execute_result"
    }
   ],
   "source": [
    "#Mode\n",
    "Mode1=df['Salary'].mode()\n",
    "Mode1"
   ]
  },
  {
   "cell_type": "code",
   "execution_count": 14,
   "id": "932d4b74",
   "metadata": {},
   "outputs": [
    {
     "data": {
      "text/plain": [
       "Country\n",
       "Brazil    142000\n",
       "Italy     172000\n",
       "USA       221000\n",
       "Name: Salary, dtype: int64"
      ]
     },
     "execution_count": 14,
     "metadata": {},
     "output_type": "execute_result"
    }
   ],
   "source": [
    "countrywise_sum=df.groupby(['Country'])['Salary'].sum()\n",
    "countrywise_sum"
   ]
  },
  {
   "cell_type": "code",
   "execution_count": 13,
   "id": "7823b9ea",
   "metadata": {},
   "outputs": [
    {
     "data": {
      "text/html": [
       "<div>\n",
       "<style scoped>\n",
       "    .dataframe tbody tr th:only-of-type {\n",
       "        vertical-align: middle;\n",
       "    }\n",
       "\n",
       "    .dataframe tbody tr th {\n",
       "        vertical-align: top;\n",
       "    }\n",
       "\n",
       "    .dataframe thead th {\n",
       "        text-align: right;\n",
       "    }\n",
       "</style>\n",
       "<table border=\"1\" class=\"dataframe\">\n",
       "  <thead>\n",
       "    <tr style=\"text-align: right;\">\n",
       "      <th></th>\n",
       "      <th>Name</th>\n",
       "      <th>Salary</th>\n",
       "    </tr>\n",
       "    <tr>\n",
       "      <th>Country</th>\n",
       "      <th></th>\n",
       "      <th></th>\n",
       "    </tr>\n",
       "  </thead>\n",
       "  <tbody>\n",
       "    <tr>\n",
       "      <th>Brazil</th>\n",
       "      <td>3</td>\n",
       "      <td>3</td>\n",
       "    </tr>\n",
       "    <tr>\n",
       "      <th>Italy</th>\n",
       "      <td>3</td>\n",
       "      <td>3</td>\n",
       "    </tr>\n",
       "    <tr>\n",
       "      <th>USA</th>\n",
       "      <td>4</td>\n",
       "      <td>4</td>\n",
       "    </tr>\n",
       "  </tbody>\n",
       "</table>\n",
       "</div>"
      ],
      "text/plain": [
       "         Name  Salary\n",
       "Country              \n",
       "Brazil      3       3\n",
       "Italy       3       3\n",
       "USA         4       4"
      ]
     },
     "execution_count": 13,
     "metadata": {},
     "output_type": "execute_result"
    }
   ],
   "source": [
    "countrywise_count=df.groupby(['Country']).count()\n",
    "countrywise_count"
   ]
  },
  {
   "cell_type": "markdown",
   "id": "0bc4a5c0",
   "metadata": {},
   "source": [
    "Measure of variability"
   ]
  },
  {
   "cell_type": "code",
   "execution_count": 15,
   "id": "495b6f9c",
   "metadata": {},
   "outputs": [
    {
     "data": {
      "text/plain": [
       "332055555.5555556"
      ]
     },
     "execution_count": 15,
     "metadata": {},
     "output_type": "execute_result"
    }
   ],
   "source": [
    "#variable of salaries\n",
    "var1=df['Salary'].var()\n",
    "var1"
   ]
  },
  {
   "cell_type": "code",
   "execution_count": 16,
   "id": "cd7cc28d",
   "metadata": {},
   "outputs": [
    {
     "data": {
      "text/plain": [
       "18222.391598128816"
      ]
     },
     "execution_count": 16,
     "metadata": {},
     "output_type": "execute_result"
    }
   ],
   "source": [
    "# standard deviation\n",
    "std1=df['Salary'].std()\n",
    "std1"
   ]
  },
  {
   "cell_type": "markdown",
   "id": "ec3283c4",
   "metadata": {},
   "source": [
    "measure of symetry"
   ]
  },
  {
   "cell_type": "code",
   "execution_count": 18,
   "id": "f0994b49",
   "metadata": {},
   "outputs": [
    {
     "data": {
      "text/plain": [
       "Salary    1.021551\n",
       "dtype: float64"
      ]
     },
     "execution_count": 18,
     "metadata": {},
     "output_type": "execute_result"
    }
   ],
   "source": [
    "skew1=df.skew(axis=0, skipna=True)\n",
    "skew1"
   ]
  },
  {
   "cell_type": "code",
   "execution_count": 19,
   "id": "51eaba04",
   "metadata": {},
   "outputs": [],
   "source": [
    "#the skewness is positive so x will have right side tail."
   ]
  },
  {
   "cell_type": "markdown",
   "id": "1ce2de9c",
   "metadata": {},
   "source": [
    "## Covarience and correlation"
   ]
  },
  {
   "cell_type": "code",
   "execution_count": 20,
   "id": "43c9dea8",
   "metadata": {},
   "outputs": [
    {
     "data": {
      "text/html": [
       "<div>\n",
       "<style scoped>\n",
       "    .dataframe tbody tr th:only-of-type {\n",
       "        vertical-align: middle;\n",
       "    }\n",
       "\n",
       "    .dataframe tbody tr th {\n",
       "        vertical-align: top;\n",
       "    }\n",
       "\n",
       "    .dataframe thead th {\n",
       "        text-align: right;\n",
       "    }\n",
       "</style>\n",
       "<table border=\"1\" class=\"dataframe\">\n",
       "  <thead>\n",
       "    <tr style=\"text-align: right;\">\n",
       "      <th></th>\n",
       "      <th>Infant ID</th>\n",
       "      <th>Gestational Age (Weeks)</th>\n",
       "      <th>Birth Weight (Grams)</th>\n",
       "    </tr>\n",
       "  </thead>\n",
       "  <tbody>\n",
       "    <tr>\n",
       "      <th>0</th>\n",
       "      <td>1</td>\n",
       "      <td>34.7</td>\n",
       "      <td>1895</td>\n",
       "    </tr>\n",
       "    <tr>\n",
       "      <th>1</th>\n",
       "      <td>2</td>\n",
       "      <td>36.0</td>\n",
       "      <td>2030</td>\n",
       "    </tr>\n",
       "    <tr>\n",
       "      <th>2</th>\n",
       "      <td>3</td>\n",
       "      <td>29.3</td>\n",
       "      <td>1440</td>\n",
       "    </tr>\n",
       "    <tr>\n",
       "      <th>3</th>\n",
       "      <td>4</td>\n",
       "      <td>40.1</td>\n",
       "      <td>2835</td>\n",
       "    </tr>\n",
       "    <tr>\n",
       "      <th>4</th>\n",
       "      <td>5</td>\n",
       "      <td>35.7</td>\n",
       "      <td>3090</td>\n",
       "    </tr>\n",
       "  </tbody>\n",
       "</table>\n",
       "</div>"
      ],
      "text/plain": [
       "   Infant ID  Gestational Age (Weeks)  Birth Weight (Grams)\n",
       "0          1                     34.7                  1895\n",
       "1          2                     36.0                  2030\n",
       "2          3                     29.3                  1440\n",
       "3          4                     40.1                  2835\n",
       "4          5                     35.7                  3090"
      ]
     },
     "execution_count": 20,
     "metadata": {},
     "output_type": "execute_result"
    }
   ],
   "source": [
    "bw=pd.read_csv('D:/anita madam rj/New folder/data/BirthWeight.csv')\n",
    "bw.head()"
   ]
  },
  {
   "cell_type": "code",
   "execution_count": 21,
   "id": "c88f4dd6",
   "metadata": {},
   "outputs": [
    {
     "data": {
      "text/html": [
       "<div>\n",
       "<style scoped>\n",
       "    .dataframe tbody tr th:only-of-type {\n",
       "        vertical-align: middle;\n",
       "    }\n",
       "\n",
       "    .dataframe tbody tr th {\n",
       "        vertical-align: top;\n",
       "    }\n",
       "\n",
       "    .dataframe thead th {\n",
       "        text-align: right;\n",
       "    }\n",
       "</style>\n",
       "<table border=\"1\" class=\"dataframe\">\n",
       "  <thead>\n",
       "    <tr style=\"text-align: right;\">\n",
       "      <th></th>\n",
       "      <th>Gestational Age (Weeks)</th>\n",
       "      <th>Birth Weight (Grams)</th>\n",
       "    </tr>\n",
       "    <tr>\n",
       "      <th>Infant ID</th>\n",
       "      <th></th>\n",
       "      <th></th>\n",
       "    </tr>\n",
       "  </thead>\n",
       "  <tbody>\n",
       "    <tr>\n",
       "      <th>1</th>\n",
       "      <td>34.7</td>\n",
       "      <td>1895</td>\n",
       "    </tr>\n",
       "    <tr>\n",
       "      <th>2</th>\n",
       "      <td>36.0</td>\n",
       "      <td>2030</td>\n",
       "    </tr>\n",
       "    <tr>\n",
       "      <th>3</th>\n",
       "      <td>29.3</td>\n",
       "      <td>1440</td>\n",
       "    </tr>\n",
       "    <tr>\n",
       "      <th>4</th>\n",
       "      <td>40.1</td>\n",
       "      <td>2835</td>\n",
       "    </tr>\n",
       "    <tr>\n",
       "      <th>5</th>\n",
       "      <td>35.7</td>\n",
       "      <td>3090</td>\n",
       "    </tr>\n",
       "  </tbody>\n",
       "</table>\n",
       "</div>"
      ],
      "text/plain": [
       "           Gestational Age (Weeks)  Birth Weight (Grams)\n",
       "Infant ID                                               \n",
       "1                             34.7                  1895\n",
       "2                             36.0                  2030\n",
       "3                             29.3                  1440\n",
       "4                             40.1                  2835\n",
       "5                             35.7                  3090"
      ]
     },
     "execution_count": 21,
     "metadata": {},
     "output_type": "execute_result"
    }
   ],
   "source": [
    "bw.set_index('Infant ID', inplace=True)\n",
    "bw.head()"
   ]
  },
  {
   "cell_type": "code",
   "execution_count": 22,
   "id": "8903e1e1",
   "metadata": {},
   "outputs": [
    {
     "data": {
      "text/html": [
       "<div>\n",
       "<style scoped>\n",
       "    .dataframe tbody tr th:only-of-type {\n",
       "        vertical-align: middle;\n",
       "    }\n",
       "\n",
       "    .dataframe tbody tr th {\n",
       "        vertical-align: top;\n",
       "    }\n",
       "\n",
       "    .dataframe thead th {\n",
       "        text-align: right;\n",
       "    }\n",
       "</style>\n",
       "<table border=\"1\" class=\"dataframe\">\n",
       "  <thead>\n",
       "    <tr style=\"text-align: right;\">\n",
       "      <th></th>\n",
       "      <th>Gestational Age (Weeks)</th>\n",
       "      <th>Birth Weight (Grams)</th>\n",
       "    </tr>\n",
       "  </thead>\n",
       "  <tbody>\n",
       "    <tr>\n",
       "      <th>Gestational Age (Weeks)</th>\n",
       "      <td>9.963824</td>\n",
       "      <td>1798.025</td>\n",
       "    </tr>\n",
       "    <tr>\n",
       "      <th>Birth Weight (Grams)</th>\n",
       "      <td>1798.025000</td>\n",
       "      <td>485478.750</td>\n",
       "    </tr>\n",
       "  </tbody>\n",
       "</table>\n",
       "</div>"
      ],
      "text/plain": [
       "                         Gestational Age (Weeks)  Birth Weight (Grams)\n",
       "Gestational Age (Weeks)                 9.963824              1798.025\n",
       "Birth Weight (Grams)                 1798.025000            485478.750"
      ]
     },
     "execution_count": 22,
     "metadata": {},
     "output_type": "execute_result"
    }
   ],
   "source": [
    "bw.cov()"
   ]
  },
  {
   "cell_type": "code",
   "execution_count": 23,
   "id": "4ee96f43",
   "metadata": {},
   "outputs": [
    {
     "data": {
      "text/html": [
       "<div>\n",
       "<style scoped>\n",
       "    .dataframe tbody tr th:only-of-type {\n",
       "        vertical-align: middle;\n",
       "    }\n",
       "\n",
       "    .dataframe tbody tr th {\n",
       "        vertical-align: top;\n",
       "    }\n",
       "\n",
       "    .dataframe thead th {\n",
       "        text-align: right;\n",
       "    }\n",
       "</style>\n",
       "<table border=\"1\" class=\"dataframe\">\n",
       "  <thead>\n",
       "    <tr style=\"text-align: right;\">\n",
       "      <th></th>\n",
       "      <th>Gestational Age (Weeks)</th>\n",
       "      <th>Birth Weight (Grams)</th>\n",
       "    </tr>\n",
       "  </thead>\n",
       "  <tbody>\n",
       "    <tr>\n",
       "      <th>Gestational Age (Weeks)</th>\n",
       "      <td>1.000000</td>\n",
       "      <td>0.817519</td>\n",
       "    </tr>\n",
       "    <tr>\n",
       "      <th>Birth Weight (Grams)</th>\n",
       "      <td>0.817519</td>\n",
       "      <td>1.000000</td>\n",
       "    </tr>\n",
       "  </tbody>\n",
       "</table>\n",
       "</div>"
      ],
      "text/plain": [
       "                         Gestational Age (Weeks)  Birth Weight (Grams)\n",
       "Gestational Age (Weeks)                 1.000000              0.817519\n",
       "Birth Weight (Grams)                    0.817519              1.000000"
      ]
     },
     "execution_count": 23,
     "metadata": {},
     "output_type": "execute_result"
    }
   ],
   "source": [
    "bw.corr(method=\"pearson\")"
   ]
  },
  {
   "cell_type": "code",
   "execution_count": null,
   "id": "c0253bef",
   "metadata": {},
   "outputs": [],
   "source": [
    "# Cavariance indicates that there is correlation exists be indicates there is correlation \n",
    "# correlation coefficient of 0.818 indicates the relationship between two variable is strong .\n"
   ]
  }
 ],
 "metadata": {
  "kernelspec": {
   "display_name": "Python 3",
   "language": "python",
   "name": "python3"
  },
  "language_info": {
   "codemirror_mode": {
    "name": "ipython",
    "version": 3
   },
   "file_extension": ".py",
   "mimetype": "text/x-python",
   "name": "python",
   "nbconvert_exporter": "python",
   "pygments_lexer": "ipython3",
   "version": "3.8.8"
  }
 },
 "nbformat": 4,
 "nbformat_minor": 5
}
